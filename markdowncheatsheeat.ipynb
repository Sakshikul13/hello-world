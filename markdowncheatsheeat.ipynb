{
 "metadata": {
  "language_info": {
   "codemirror_mode": {
    "name": "ipython",
    "version": 3
   },
   "file_extension": ".py",
   "mimetype": "text/x-python",
   "name": "python",
   "nbconvert_exporter": "python",
   "pygments_lexer": "ipython3",
   "version": "3.8.8"
  },
  "orig_nbformat": 4,
  "kernelspec": {
   "name": "python3",
   "display_name": "Python 3.8.8 64-bit ('base': conda)"
  },
  "interpreter": {
   "hash": "d421f7e0be82773f79ff071f6681b3a26ad583fa2b319fe248c43945bdde9151"
  }
 },
 "nbformat": 4,
 "nbformat_minor": 2,
 "cells": [
  {
   "source": [
    "\n",
    "# largest heading \n",
    "## subheading 1 \n",
    "*italicize way one*\n",
    "_italicize way two_\n",
    "**bold way one**\n",
    "__bold way two__\n",
    "~~strikethrough~~\n",
    "\n",
    "---\n",
    "___\n",
    "> this is a quote (block quote)\n"
   ],
   "cell_type": "markdown",
   "metadata": {}
  },
  {
   "source": [
    "[google](www.google.com)\n",
    "[google](www.google.com \"google\")"
   ],
   "cell_type": "markdown",
   "metadata": {}
  },
  {
   "source": [
    "* unordered list\n",
    "* item 1\n",
    "* item 2\n",
    "* item 4\n",
    "    * nested one\n",
    "    * nested two\n",
    "1. ordered list\n",
    "1. math\n",
    "1. science\n",
    "1. history\n"
   ],
   "cell_type": "markdown",
   "metadata": {}
  },
  {
   "source": [
    "`<p> inline code block </p>`\n",
    "![markdwon logo image](https://markdown-here.com/img/icon256.png)"
   ],
   "cell_type": "markdown",
   "metadata": {}
  },
  {
   "source": [
    "### code blocks on python\n",
    "```python\n",
    "  def returnnone():\n",
    "     return none \n",
    "  print('sakshi')\n",
    "```"
   ],
   "cell_type": "markdown",
   "metadata": {}
  },
  {
   "source": [
    "\n",
    "| sl no. | email        |\n",
    "| ------ | ------------ |\n",
    "| 1.     | sk.gmail.com |\n",
    "\n",
    "* [x] task lit x denotes comlpleted task\n",
    "* [x] task 1\n",
    "* [x] task 2\n",
    "* [ ] task 3\n"
   ],
   "cell_type": "markdown",
   "metadata": {}
  }
 ]
}